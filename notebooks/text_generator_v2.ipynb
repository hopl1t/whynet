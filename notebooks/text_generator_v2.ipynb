{
  "nbformat": 4,
  "nbformat_minor": 0,
  "metadata": {
    "colab": {
      "name": "transformer_style_onehot.ipynb",
      "provenance": [],
      "collapsed_sections": [],
      "machine_shape": "hm"
    },
    "kernelspec": {
      "name": "python3",
      "display_name": "Python 3"
    },
    "accelerator": "GPU"
  },
  "cells": [
    {
      "cell_type": "code",
      "metadata": {
        "colab": {
          "base_uri": "https://localhost:8080/"
        },
        "id": "5M7DQ-kO90os",
        "outputId": "71dd68b3-40ac-46d6-ee76-811145832d04"
      },
      "source": [
        "!pip install -U torchtext==0.8.0"
      ],
      "execution_count": 1,
      "outputs": [
        {
          "output_type": "stream",
          "text": [
            "Collecting torchtext==0.8.0\n",
            "\u001b[?25l  Downloading https://files.pythonhosted.org/packages/26/8a/e09b9b82d4dd676f17aa681003a7533765346744391966dec0d5dba03ee4/torchtext-0.8.0-cp37-cp37m-manylinux1_x86_64.whl (6.9MB)\n",
            "\u001b[K     |████████████████████████████████| 7.0MB 6.2MB/s \n",
            "\u001b[?25hRequirement already satisfied, skipping upgrade: requests in /usr/local/lib/python3.7/dist-packages (from torchtext==0.8.0) (2.23.0)\n",
            "Requirement already satisfied, skipping upgrade: torch in /usr/local/lib/python3.7/dist-packages (from torchtext==0.8.0) (1.7.1+cu101)\n",
            "Requirement already satisfied, skipping upgrade: tqdm in /usr/local/lib/python3.7/dist-packages (from torchtext==0.8.0) (4.41.1)\n",
            "Requirement already satisfied, skipping upgrade: numpy in /usr/local/lib/python3.7/dist-packages (from torchtext==0.8.0) (1.19.5)\n",
            "Requirement already satisfied, skipping upgrade: idna<3,>=2.5 in /usr/local/lib/python3.7/dist-packages (from requests->torchtext==0.8.0) (2.10)\n",
            "Requirement already satisfied, skipping upgrade: urllib3!=1.25.0,!=1.25.1,<1.26,>=1.21.1 in /usr/local/lib/python3.7/dist-packages (from requests->torchtext==0.8.0) (1.24.3)\n",
            "Requirement already satisfied, skipping upgrade: certifi>=2017.4.17 in /usr/local/lib/python3.7/dist-packages (from requests->torchtext==0.8.0) (2020.12.5)\n",
            "Requirement already satisfied, skipping upgrade: chardet<4,>=3.0.2 in /usr/local/lib/python3.7/dist-packages (from requests->torchtext==0.8.0) (3.0.4)\n",
            "Requirement already satisfied, skipping upgrade: typing-extensions in /usr/local/lib/python3.7/dist-packages (from torch->torchtext==0.8.0) (3.7.4.3)\n",
            "Installing collected packages: torchtext\n",
            "  Found existing installation: torchtext 0.3.1\n",
            "    Uninstalling torchtext-0.3.1:\n",
            "      Successfully uninstalled torchtext-0.3.1\n",
            "Successfully installed torchtext-0.8.0\n"
          ],
          "name": "stdout"
        }
      ]
    },
    {
      "cell_type": "code",
      "metadata": {
        "colab": {
          "base_uri": "https://localhost:8080/"
        },
        "id": "oQ5YrOi79-Xu",
        "outputId": "fbbd0756-11db-4001-f4b7-2a2f38574de6"
      },
      "source": [
        "!nvidia-smi"
      ],
      "execution_count": 2,
      "outputs": [
        {
          "output_type": "stream",
          "text": [
            "Wed Mar  3 18:05:46 2021       \n",
            "+-----------------------------------------------------------------------------+\n",
            "| NVIDIA-SMI 460.39       Driver Version: 460.32.03    CUDA Version: 11.2     |\n",
            "|-------------------------------+----------------------+----------------------+\n",
            "| GPU  Name        Persistence-M| Bus-Id        Disp.A | Volatile Uncorr. ECC |\n",
            "| Fan  Temp  Perf  Pwr:Usage/Cap|         Memory-Usage | GPU-Util  Compute M. |\n",
            "|                               |                      |               MIG M. |\n",
            "|===============================+======================+======================|\n",
            "|   0  Tesla P100-PCIE...  Off  | 00000000:00:04.0 Off |                    0 |\n",
            "| N/A   38C    P0    28W / 250W |      0MiB / 16280MiB |      0%      Default |\n",
            "|                               |                      |                  N/A |\n",
            "+-------------------------------+----------------------+----------------------+\n",
            "                                                                               \n",
            "+-----------------------------------------------------------------------------+\n",
            "| Processes:                                                                  |\n",
            "|  GPU   GI   CI        PID   Type   Process name                  GPU Memory |\n",
            "|        ID   ID                                                   Usage      |\n",
            "|=============================================================================|\n",
            "|  No running processes found                                                 |\n",
            "+-----------------------------------------------------------------------------+\n"
          ],
          "name": "stdout"
        }
      ]
    },
    {
      "cell_type": "code",
      "metadata": {
        "id": "nNHW7qZ-9_iY"
      },
      "source": [
        "import math\n",
        "import torch\n",
        "import torch.nn as nn\n",
        "import torch.nn.functional as F\n",
        "from torch.nn import TransformerEncoder, TransformerEncoderLayer\n",
        "import io\n",
        "import os\n",
        "import numpy as np\n",
        "import random\n",
        "import torch\n",
        "from torchtext.utils import download_from_url, extract_archive\n",
        "from torchtext.data.utils import get_tokenizer\n",
        "from torchtext.vocab import build_vocab_from_iterator\n",
        "import time\n",
        "import re\n",
        "import fileinput\n",
        "import pickle\n",
        "import time\n",
        "from torchtext import datasets\n",
        "import torchtext\n",
        "import torchvision.transforms as transforms\n",
        "import pandas as pd\n",
        "from torch.utils.data import TensorDataset, random_split\n",
        "from torch.utils.data import DataLoader, RandomSampler, SequentialSampler\n",
        "import matplotlib.pyplot as plt"
      ],
      "execution_count": 3,
      "outputs": []
    },
    {
      "cell_type": "code",
      "metadata": {
        "id": "Ua7i9gbWIC39",
        "colab": {
          "base_uri": "https://localhost:8080/"
        },
        "outputId": "9b16eee2-7d6d-440f-880b-0726362c8abd"
      },
      "source": [
        "from google.colab import drive\n",
        "drive.mount('/content/drive')\n",
        "os.chdir('drive/MyDrive/Colab Notebooks/nn_project')"
      ],
      "execution_count": 4,
      "outputs": [
        {
          "output_type": "stream",
          "text": [
            "Mounted at /content/drive\n"
          ],
          "name": "stdout"
        }
      ]
    },
    {
      "cell_type": "code",
      "metadata": {
        "id": "O5T0ougd-C83"
      },
      "source": [
        "PICKLE_PATH = 'data/ynet_data.pkl'\n",
        "MAX_LEN = 512\n",
        "# Back Propogation Through Time\n",
        "BPTT = 512\n",
        "BATCH_SIZE = 12\n",
        "EVAL_BATCH_SIZE = 6\n",
        "EOS = '[EOS]'\n",
        "SPECIAL_TOKENS = ['[SOS]', '[SUB]', '[EOS]', '[SEC]', '[UNK]'\\\n",
        "                  '[PAD]', '[UNK]', '[SEP]', '[SEP1]', '[SEP2]']\n",
        "device = torch.device(\"cuda\" if torch.cuda.is_available() else \"cpu\")                  "
      ],
      "execution_count": 5,
      "outputs": []
    },
    {
      "cell_type": "code",
      "metadata": {
        "id": "b251mPvd-MbS"
      },
      "source": [
        "def char_tokenizer(text, special_tokens = SPECIAL_TOKENS):\n",
        "    \"\"\"\n",
        "    TODO: ignore special chars - decrease vocab size\n",
        "    Generator\n",
        "    tokenizes text to chars, expcet for special tokens\n",
        "    \"\"\"\n",
        "    for word in text.split():\n",
        "        if word in special_tokens:\n",
        "            yield word\n",
        "        else:\n",
        "            for char in word:\n",
        "                yield char\n",
        "            yield ' '\n",
        "\n",
        "class PositionalEncoding(nn.Module):\n",
        "    \"\"\"\n",
        "    Injects some information about the relative or absolute position of the\n",
        "    tokens in the sequence. The positional encodings have the same dimension as\n",
        "    the embeddings so that the two can be summed. Here, we use sine and cosine \n",
        "    functions of different frequencies.\n",
        "    \"\"\"\n",
        "    def __init__(self, d_model, dropout=0.1, max_len=5000):\n",
        "        super(PositionalEncoding, self).__init__()\n",
        "        self.dropout = nn.Dropout(p=dropout)\n",
        "        pe = torch.zeros(max_len, d_model)\n",
        "        position = torch.arange(0, max_len, dtype=torch.float).unsqueeze(1)\n",
        "        div_term = torch.exp(torch.arange(0, d_model, 2).float() * (-math.log(10000.0) / d_model))\n",
        "        pe[:, 0::2] = torch.sin(position * div_term)\n",
        "        pe[:, 1::2] = torch.cos(position * div_term)\n",
        "        pe = pe.unsqueeze(0).transpose(0, 1)\n",
        "        # pe = positional encoding. Buffer = data that is not a model parameter but kept anyway\n",
        "        self.register_buffer('pe', pe)\n",
        "\n",
        "    def forward(self, x):\n",
        "        x = x + self.pe[:x.size(0), :]\n",
        "        return self.dropout(x)            \n",
        "\n",
        "class TransformerModel(nn.Module):\n",
        "    def __init__(self, ntoken, ninp, nhead, nhid, nlayers, dropout=0.5,\\\n",
        "                 num_meta=10, num_classes=12, min_time=1, max_time=2203):\n",
        "        \"\"\"\n",
        "        Encoder only transformer (like Bert)\n",
        "        :param ntoken - int: size of the dictionary of embeddings (num_embeddings)\n",
        "        :param ninp: the number of expected features in the input (d_model). total size of embedding\n",
        "        :param nhead: the number of heads in the multiheadattention models\n",
        "        :param nhid: the dimension of the feedforward network model (torch default 2048)\n",
        "        :param nlayers: number of encoder layers\n",
        "        :param dropout: float, probability for dropout of a neuron\n",
        "        \"\"\"\n",
        "        super(TransformerModel, self).__init__()\n",
        "        self.model_type = 'Transformer'\n",
        "        self.pos_encoder = PositionalEncoding(ninp - num_meta, dropout)\n",
        "        self.num_classes = num_classes\n",
        "        self.min_time = min_time\n",
        "        self.max_time = max_time\n",
        "        self.loss_list = []\n",
        "        self.meta1_encoder = nn.Linear(self.num_classes, 5, bias=False)\n",
        "        self.meta2_encoder = nn.Linear(1, 5, bias=False)\n",
        "        # self-attn and feedforward network.\n",
        "        # This standard encoder layer is based on the paper \"Attention Is All You Need\".\n",
        "        # This has multiheaded_attention + add&norm + pointwise feed_forward (entire left encoder part)\n",
        "        encoder_layers = TransformerEncoderLayer(ninp, nhead, nhid, dropout)\n",
        "        \n",
        "        # TransformerEncoder is a stack of N encoder layers\n",
        "        # This is the encoder only alot of stack for better encoding - this is the actual layer used\n",
        "        self.transformer_encoder = TransformerEncoder(encoder_layers, nlayers)\n",
        "        \n",
        "        # A simple lookup table that stores embeddings of a fixed dictionary and size\n",
        "        self.encoder = nn.Embedding(ntoken, ninp - num_meta) # -10 because we add two meta entries manually\n",
        "        self.ninp = ninp\n",
        "        self.decoder = nn.Linear(ninp, ntoken)\n",
        "        self.init_weights()\n",
        "\n",
        "    def generate_square_subsequent_mask(self, sz):\n",
        "        \"\"\"\n",
        "        A square attention mask is required because the self-attention layers \n",
        "        in nn.TransformerEncoder are only allowed to attend the earlier \n",
        "        positions in the sequence. For the language modeling task, any tokens on\n",
        "        the future positions should be masked.\n",
        "        :param sz - : size?\n",
        "        \"\"\"\n",
        "        mask = (torch.triu(torch.ones(sz, sz)) == 1).transpose(0, 1)\n",
        "        mask = mask.float().masked_fill(mask == 0, float('-inf')).masked_fill(mask == 1, float(0.0))\n",
        "        return mask\n",
        "\n",
        "    def init_weights(self):\n",
        "        initrange = 0.1\n",
        "        self.encoder.weight.data.uniform_(-initrange, initrange)\n",
        "        self.decoder.bias.data.zero_()\n",
        "        self.decoder.weight.data.uniform_(-initrange, initrange)\n",
        "        self.meta1_encoder.weight.data.uniform_(-initrange, initrange)\n",
        "        self.meta2_encoder.weight.data.uniform_(-initrange, initrange)\n",
        "\n",
        "    def forward(self, data, src_mask):\n",
        "        # Embedding\n",
        "        src = data[:,:,0] # these are the letter tokens\n",
        "        meta1 = data[:,:,1]  #/ self.num_classes # labels, scaled down by num classes\n",
        "        # timestamp + min-max normalization\n",
        "        meta2 = data[:,:,2] #(data[:,:,2] - self.min_time) / (self.max_time - self.min_time) \n",
        "        src = self.encoder(src) * math.sqrt(self.ninp)\n",
        "        # Injects some information about the relative or absolute position of the tokens in the sequence\n",
        "        src = self.pos_encoder(src)\n",
        "        # Concat meta data as two single entries in the embedded state (no pos embedding)\n",
        "        meta1 = F.one_hot(meta1, self.num_classes) \n",
        "        meta1 = self.meta1_encoder(meta1.float())\n",
        "        meta2 = self.meta2_encoder(meta2.unsqueeze(2).float())\n",
        "        src = torch.cat((src, meta1), 2)\n",
        "        src = torch.cat((src, meta2), 2)\n",
        "        # multi-head transformer\n",
        "        output = self.transformer_encoder(src, src_mask)\n",
        "        # fully connected linear\n",
        "        output = self.decoder(output)\n",
        "        return output\n",
        "\n",
        "def data_process(data_iter, meta1_iter, meta2_iter):\n",
        "    \"\"\"\n",
        "    Processes data and 2 metadata fileds\n",
        "    First two entries for each item will be the meta entries (needs to be split in forward logic)\n",
        "    \"\"\"\n",
        "    processed = torch.zeros((len(data_iter), MAX_LEN, 3), dtype=torch.long)\n",
        "    for idx, (string, meta1, meta2) in enumerate(zip(data_iter, meta1_iter, meta2_iter)):\n",
        "        tokenized = [vocab[token] for token in tokenizer(string)]\n",
        "        if len(tokenized) < MAX_LEN:\n",
        "            tokenized += ([vocab.stoi['[PAD]']] * (MAX_LEN - len(tokenized)))\n",
        "        processed[idx][:,0] = torch.tensor(tokenized, dtype=torch.long)\n",
        "        processed[idx][:,1] = torch.tensor(meta1, dtype=torch.long)\n",
        "        processed[idx][:,2] = torch.tensor(meta2, dtype=torch.long)\n",
        "        \n",
        "    return torch.cat(tuple(filter(lambda t: t.numel() > 0, processed)))\n",
        "\n",
        "def batchify(data, bsz):\n",
        "    # Divide the dataset into bsz parts. (bsz = batch size)\n",
        "    nbatch = data.size(0) // bsz\n",
        "    # Trim off any extra elements that wouldn't cleanly fit (remainders).\n",
        "    data = data.narrow(0, 0, nbatch * bsz)\n",
        "    # Evenly divide the data across the bsz batches.\n",
        "#     data = data.view(bsz, -1).t().contiguous()\n",
        "    data = torch.transpose(data.view(bsz, -1, 3), 0, 1).contiguous()\n",
        "#     yield data.to(device)\n",
        "    return data.to(device)\n",
        "\n",
        "def get_batch(source, i):\n",
        "    \"\"\"\n",
        "    Generates the input and target sequence for the transformer model. \n",
        "    It subdivides the source data into chunks of length BPTT. \n",
        "    For the language modeling task, the model needs the following words \n",
        "    as Target.\n",
        "    \"\"\"\n",
        "    seq_len = min(BPTT, len(source) - 1 - i)\n",
        "    data = source[i:i+seq_len]\n",
        "    # this is a good fix, even for alter when we use style transfer.\n",
        "    target = source[i+1:i+1+seq_len].reshape(-1)[::3]\n",
        "    return data, target\n",
        "\n",
        "def train():\n",
        "    \"\"\"\n",
        "    Trains one epoch - stochastic GD over an entire batch\n",
        "    StepLR is applied to adjust the learn rate through epochs. \n",
        "    During the training, we use nn.utils.clip_grad_norm_ function to scale \n",
        "    all the gradient together to prevent exploding.\n",
        "    \"\"\"\n",
        "    model.train() # Turn on the train mode\n",
        "    total_loss = 0.\n",
        "    start_time = time.time()\n",
        "    # A square attention mask is required because the self-attention layers \n",
        "    # in nn.TransformerEncoder are only allowed to attend the earlier \n",
        "    # positions in the sequence.\n",
        "    src_mask = model.generate_square_subsequent_mask(BPTT).to(device)\n",
        "    for batch, i in enumerate(range(0, train_data_post.size(0) - 1, BPTT)):\n",
        "        data, targets = get_batch(train_data_post, i)\n",
        "        optimizer.zero_grad()\n",
        "        # source data into chunks of length BPTT\n",
        "        if data.size(0) != BPTT:\n",
        "            # src_mask = model.generate_square_subsequent_mask(data.size(0)).to(device)\n",
        "            print('got batch of size {0}, skipping'.format(data.shape))\n",
        "            continue\n",
        "        output = model(data, src_mask)\n",
        "        loss = criterion(output.view(-1, ntokens), targets)\n",
        "        loss.backward()\n",
        "        torch.nn.utils.clip_grad_norm_(model.parameters(), 0.5)\n",
        "        optimizer.step()\n",
        "\n",
        "        total_loss += loss.item()\n",
        "        log_interval = 200\n",
        "        save_interval = 2000\n",
        "        if batch % log_interval == 0 and batch > 0:\n",
        "            cur_loss = total_loss / log_interval\n",
        "            elapsed = time.time() - start_time\n",
        "            print('| epoch {:3d} | {:5d}/{:5d} batches | '\n",
        "                  'lr {:02.2f} | ms/batch {:5.2f} | '\n",
        "                  'loss {:5.2f} | ppl {:8.2f}'.format(\n",
        "                    epoch, batch, len(train_data_post) // BPTT, scheduler.get_lr()[0],\n",
        "                    elapsed * 1000 / log_interval,\n",
        "                    cur_loss, math.exp(cur_loss)))\n",
        "            model.loss_list.append(cur_loss)\n",
        "            total_loss = 0\n",
        "            start_time = time.time()\n",
        "        if batch % save_interval == 0 and batch > 0:\n",
        "            # v2 because we fear overfiting\n",
        "            with open('saved_models/heb_char_model_onehot_v2.pkl', 'wb') as f:\n",
        "                torch.save(model, f)\n",
        "            print('saved model')\n",
        "\n",
        "def evaluate(eval_model, data_source):\n",
        "    eval_model.eval() # Turn on the evaluation mode\n",
        "    total_loss = 0.\n",
        "    src_mask = model.generate_square_subsequent_mask(BPTT).to(device)\n",
        "    with torch.no_grad():\n",
        "        for i in range(0, data_source.size(0) - 1, BPTT):\n",
        "            data, targets = get_batch(data_source, i)\n",
        "            if data.size(0) != BPTT:\n",
        "                # src_mask = model.generate_square_subsequent_mask(data.size(0)).to(device)\n",
        "                print('skipping sample eval because of shape: {0}'.format(data.shape))\n",
        "                continue\n",
        "            output = eval_model(data, src_mask)\n",
        "            output_flat = output.view(-1, ntokens)\n",
        "            total_loss += len(data) * criterion(output_flat, targets).item()\n",
        "    return total_loss / (len(data_source) - 1)    \n",
        "\n",
        "def predict(X):\n",
        "  \"\"\"\n",
        "  Recives unactivated output as 2D tensor \n",
        "  Predicts classes\n",
        "  \"\"\"\n",
        "  activated = torch.softmax(X, dim=1)\n",
        "  _, prediction = torch.max(activated, 1)\n",
        "  return prediction\n",
        "  \n",
        "def generate(model, vocab, start_string, genre, timestamp, temperature, max_len):\n",
        "    '''\n",
        "    This function gets a trained model and vocab and generates a random string\n",
        "    using the model, seeded with the start_string string.\n",
        "    The temparature value is used to generate a more diverse output (high value),\n",
        "    then a conservative one (low value).\n",
        "    '''\n",
        "        \n",
        "    # remove the EOS, we don't need it for generation\n",
        "    # TODO: ADD EOS TO DATA\n",
        "    # sequence = sequence[:-1]\n",
        "    \n",
        "    model.eval()\n",
        "    words = [w for w in tokenizer(start_string)]\n",
        "    \n",
        "    for i in range(max_len):\n",
        "        sequence = vocab.lookup_indices(words)\n",
        "        sequence_ten = torch.LongTensor(sequence)\n",
        "        length = sequence_ten.shape[0]\n",
        "        expanded = torch.stack((sequence_ten, torch.tensor([genre]*length),\\\n",
        "                            torch.tensor([timestamp]*length)), 1)\n",
        "        src_mask = model.generate_square_subsequent_mask(len(sequence)).to(device)\n",
        "        forward = model(expanded.unsqueeze(1).to(device), src_mask)\n",
        "        prediction = predict(forward[-1])\n",
        "        next_word = vocab.itos[prediction]\n",
        "        if next_word == EOS:\n",
        "            i = max_len + 1\n",
        "        else:\n",
        "            words.append(next_word)\n",
        "    return words"
      ],
      "execution_count": 6,
      "outputs": []
    },
    {
      "cell_type": "code",
      "metadata": {
        "colab": {
          "base_uri": "https://localhost:8080/"
        },
        "id": "NE9T0Amv_VCF",
        "outputId": "2659fcff-57ee-4b4a-e8df-43effa56cc7f"
      },
      "source": [
        "data = pd.read_pickle(PICKLE_PATH)\n",
        "label_dict = {key: value for value, key in enumerate(data.label.unique())}\n",
        "\n",
        "train_len = int(len(data) * 0.9)\n",
        "train_data = data[0:train_len]\n",
        "val_data = data[train_len:]\n",
        "\n",
        "tokenizer = char_tokenizer\n",
        "vocab = build_vocab_from_iterator(map(tokenizer,\n",
        "                                      train_data['data'].__iter__()))\n",
        "\n",
        "# Conform vocab to Bert standarts\n",
        "# vocab.itos[0] = '[UNK]'\n",
        "# vocab.itos[1] = '[PAD]'\n",
        "# vocab.stoi['[UNK]'] = 0\n",
        "# vocab.stoi['[PAD]'] = 1\n",
        "# vocab.stoi.pop('<pad>')\n",
        "# vocab.stoi.pop('<unk>')\n",
        "# vocab.UNK = '[UNK]'\n",
        "\n",
        "train_text_data = train_data['data']\n",
        "train_label_data = train_data['label_num']\n",
        "train_time_data = train_data['date'] - 2e5\n",
        "\n",
        "val_text_data = val_data['data']\n",
        "val_label_data = val_data['label_num']\n",
        "val_time_data = val_data['date'] - 2e5\n",
        "\n",
        "train_data_pre = data_process(train_text_data,\\\n",
        "                              train_label_data, train_time_data)\n",
        "val_data_pre = data_process(val_text_data,\\\n",
        "                            val_label_data, val_time_data)\n",
        "\n",
        "train_data_post = batchify(train_data_pre, BATCH_SIZE)\n",
        "val_data_post = batchify(val_data_pre, EVAL_BATCH_SIZE)"
      ],
      "execution_count": 7,
      "outputs": [
        {
          "output_type": "stream",
          "text": [
            "237033lines [00:25, 9184.16lines/s]\n"
          ],
          "name": "stderr"
        }
      ]
    },
    {
      "cell_type": "code",
      "metadata": {
        "colab": {
          "base_uri": "https://localhost:8080/"
        },
        "id": "hPolcV1i_Z9c",
        "outputId": "fba11a5b-4cb5-445d-b452-77b2ac6ac8ca"
      },
      "source": [
        "# sanity check\n",
        "[vocab.itos[int(c)] for c in train_data_post[0:10][:,0][:,0]]"
      ],
      "execution_count": 8,
      "outputs": [
        {
          "output_type": "execute_result",
          "data": {
            "text/plain": [
              "['[SOS]', 'צ', 'ה', '\"', 'ל', ' ', 'א', 'י', 'ת', 'ר']"
            ]
          },
          "metadata": {
            "tags": []
          },
          "execution_count": 8
        }
      ]
    },
    {
      "cell_type": "code",
      "metadata": {
        "id": "NNYY0cYHABBE",
        "colab": {
          "base_uri": "https://localhost:8080/",
          "height": 232
        },
        "outputId": "01edff8c-47d5-42e1-afaa-a3428e156a55"
      },
      "source": [
        "ntokens = len(vocab.stoi) # the size of vocabulary\n",
        "emsize = 768 # embedding dimension - 768 like in BERT\n",
        "nhid = 3072 # the dimension of the feedforward network model in nn.TransformerEncoder - 3072 like in BERT\n",
        "nlayers = 12 # the number of nn.TransformerEncoderLayer in nn.TransformerEncoder - we put 12 like in BERT\n",
        "nhead = 12 # the number of heads in the multiheadattention models - we put 12 like in BERT\n",
        "dropout = 0.1 # the dropout value - 0.1 like in BERT\n",
        "# model = TransformerModel(ntokens, emsize, nhead, nhid, nlayers, dropout).to(device)\n",
        "model = torch.load('saved_models/heb_char_model_onehot_v2.pkl')"
      ],
      "execution_count": 7,
      "outputs": [
        {
          "output_type": "error",
          "ename": "NameError",
          "evalue": "ignored",
          "traceback": [
            "\u001b[0;31m---------------------------------------------------------------------------\u001b[0m",
            "\u001b[0;31mNameError\u001b[0m                                 Traceback (most recent call last)",
            "\u001b[0;32m<ipython-input-7-0f0d83f96f39>\u001b[0m in \u001b[0;36m<module>\u001b[0;34m()\u001b[0m\n\u001b[0;32m----> 1\u001b[0;31m \u001b[0mntokens\u001b[0m \u001b[0;34m=\u001b[0m \u001b[0mlen\u001b[0m\u001b[0;34m(\u001b[0m\u001b[0mvocab\u001b[0m\u001b[0;34m.\u001b[0m\u001b[0mstoi\u001b[0m\u001b[0;34m)\u001b[0m \u001b[0;31m# the size of vocabulary\u001b[0m\u001b[0;34m\u001b[0m\u001b[0;34m\u001b[0m\u001b[0m\n\u001b[0m\u001b[1;32m      2\u001b[0m \u001b[0memsize\u001b[0m \u001b[0;34m=\u001b[0m \u001b[0;36m768\u001b[0m \u001b[0;31m# embedding dimension - 768 like in BERT\u001b[0m\u001b[0;34m\u001b[0m\u001b[0;34m\u001b[0m\u001b[0m\n\u001b[1;32m      3\u001b[0m \u001b[0mnhid\u001b[0m \u001b[0;34m=\u001b[0m \u001b[0;36m3072\u001b[0m \u001b[0;31m# the dimension of the feedforward network model in nn.TransformerEncoder - 3072 like in BERT\u001b[0m\u001b[0;34m\u001b[0m\u001b[0;34m\u001b[0m\u001b[0m\n\u001b[1;32m      4\u001b[0m \u001b[0mnlayers\u001b[0m \u001b[0;34m=\u001b[0m \u001b[0;36m12\u001b[0m \u001b[0;31m# the number of nn.TransformerEncoderLayer in nn.TransformerEncoder - we put 12 like in BERT\u001b[0m\u001b[0;34m\u001b[0m\u001b[0;34m\u001b[0m\u001b[0m\n\u001b[1;32m      5\u001b[0m \u001b[0mnhead\u001b[0m \u001b[0;34m=\u001b[0m \u001b[0;36m12\u001b[0m \u001b[0;31m# the number of heads in the multiheadattention models - we put 12 like in BERT\u001b[0m\u001b[0;34m\u001b[0m\u001b[0;34m\u001b[0m\u001b[0m\n",
            "\u001b[0;31mNameError\u001b[0m: name 'vocab' is not defined"
          ]
        }
      ]
    },
    {
      "cell_type": "code",
      "metadata": {
        "id": "iYfT2eN9_aaw"
      },
      "source": [
        "criterion = nn.CrossEntropyLoss()\n",
        "# lr = 5e-5 # learning rate\n",
        "lr = 3e-5 # learning rate\n",
        "optimizer = torch.optim.Adam(model.parameters(), lr=lr)\n",
        "scheduler = torch.optim.lr_scheduler.StepLR(optimizer, 1.0, gamma=0.95)"
      ],
      "execution_count": 34,
      "outputs": []
    },
    {
      "cell_type": "code",
      "metadata": {
        "id": "FgJKoJj7_ald",
        "colab": {
          "base_uri": "https://localhost:8080/"
        },
        "outputId": "42fdf693-2efe-4935-aa8d-e1faa4770526"
      },
      "source": [
        "torch.cuda.empty_cache()\n",
        "import gc\n",
        "# del variables\n",
        "gc.collect()  "
      ],
      "execution_count": 34,
      "outputs": [
        {
          "output_type": "execute_result",
          "data": {
            "text/plain": [
              "2276"
            ]
          },
          "metadata": {
            "tags": []
          },
          "execution_count": 34
        }
      ]
    },
    {
      "cell_type": "code",
      "metadata": {
        "id": "zMuvJxYh_atO"
      },
      "source": [
        "%%time\n",
        "best_val_loss = float(\"inf\")\n",
        "epochs = 40 # The number of epochs\n",
        "best_model = None\n",
        "\n",
        "model.cuda()\n",
        "\n",
        "for epoch in range(1, epochs + 1):\n",
        "    epoch_start_time = time.time()\n",
        "    train()\n",
        "    val_loss = evaluate(model, val_data_post)\n",
        "    print('-' * 89)\n",
        "    print('| end of epoch {:3d} | time: {:5.2f}s | valid loss {:5.2f} | '\n",
        "          'valid ppl {:8.2f}'.format(epoch, (time.time() - epoch_start_time),\n",
        "                                     val_loss, math.exp(val_loss)))\n",
        "    print('-' * 89)\n",
        "\n",
        "    if val_loss < best_val_loss:\n",
        "        best_val_loss = val_loss\n",
        "        best_model = model\n",
        "        with open('heb_char_model.pkl', 'wb') as f:\n",
        "            torch.save(model, f)\n",
        "\n",
        "    scheduler.step()"
      ],
      "execution_count": null,
      "outputs": []
    },
    {
      "cell_type": "markdown",
      "metadata": {
        "id": "xdg29s5iXw79"
      },
      "source": [
        ""
      ]
    },
    {
      "cell_type": "code",
      "metadata": {
        "colab": {
          "base_uri": "https://localhost:8080/"
        },
        "id": "JqKWDWLf_a7j",
        "outputId": "40296701-5acb-45a8-c548-214ad7cd5c14"
      },
      "source": [
        "model.eval() # Turn on the evaluation mode\n",
        "\n",
        "# ['צבאי', 'משפט ופלילי', 'בריאות וחינוך', 'כלכלה עולמית', 'כללי', 'פוליטי'\n",
        "# 'כלכלה ישראל', 'כדורגל', 'פלסטינים', 'סקס', 'סקס ויחסים', ';כלכלה עולמית']\n",
        "genre = label_dict['כללי']\n",
        "timestamp = 1000\n",
        "\n",
        "start_string = \"\"\"עזר\"\"\"\n",
        "# start_string = \"\"\"איש העסקים האמריקאי\"\"\"\n",
        "# start_string = \"\"\"שר הכדורגל ויו\"ר התאגדות המנופאים\"\"\"\n",
        "# start_string = \"\"\"איך תדעי אם השותף שלך אוהב אותך?\"\"\"\n",
        "# start_string = \"\"\" תושב כפר סבא חשוד כי סחר בחמוסים\"\"\"\n",
        "# start_string = \"\"\"[SOS] מחסור בחמאה בעקבות שביתה בנמל [SEP1] ברחבי הארץ הורגש מחסור חמור בחמאה לקראת חג הפסח [SEP2] \"\"\"\n",
        "# start_string = \"\"\"הרשות הפלסטינית תחלק ממתקים למתנחלים לכבוד פסח\"\"\"\n",
        "# start_string = '[SOS] ' + start_string\n",
        "# start_string = '[SOS] ' + start_string + ' [SEP1]'\n",
        "\n",
        "\n",
        "generated_text = ''\n",
        "with torch.no_grad():\n",
        "    generated = generate(model, vocab, start_string, genre, timestamp, 1, 500)\n",
        "for char in generated:\n",
        "    generated_text += char\n",
        "print(generated_text)\n",
        "print(' ')"
      ],
      "execution_count": 71,
      "outputs": [
        {
          "output_type": "stream",
          "text": [
            "עזר במיוחד לאחר שהורשע בהריגת הנער במסעדה בירושלים במסעדה בירושלים. הוא הורשע בהריגת הנער במסעדה בירושלים במסעדה בירושלים. הנער הורשע בהריגת הנער במסעדה בירושלים במסעדה בירושלים. הנער הורשע בהריגת הנער במסעדה בירושלים במסעדה בירושלים. הנער הו \n",
            " \n"
          ],
          "name": "stdout"
        }
      ]
    },
    {
      "cell_type": "code",
      "metadata": {
        "id": "xPDQjwPhO6El"
      },
      "source": [
        "genres = data.label.unique()\n",
        "generated_articles = []"
      ],
      "execution_count": 10,
      "outputs": []
    },
    {
      "cell_type": "code",
      "metadata": {
        "id": "7YImZEZsO6s8"
      },
      "source": [
        "start_string_list = [\n",
        "                     \"\"\"ראש הממשלה\"\"\",\n",
        "                     \"\"\"נתינהו:\"\"\",\n",
        "                     \"\"\"שר הבריאות\"\"\",\n",
        "                     \"\"\"גאווה ישראלית\"\"\",\n",
        "                     \"\"\"משואה לתקומה\"\"\",\n",
        "                     \"\"\"הישג אדיר\"\"\",\n",
        "                     \"\"\"התפתחות מפתיעה\"\"\",\n",
        "                     \"\"\"מועצת החכמים\"\"\",\n",
        "                     \"\"\"איגוד יצרני\"\"\",\n",
        "                     \"\"\"מפכ\"ל המשטרה:\"\"\",\n",
        "                     \"\"\"שר הביטחון:\"\"\",\n",
        "                     \"\"\"ירידות חדות\"\"\",\n",
        "                     \"\"\"זינוק\"\"\",\n",
        "                     \"\"\"נשיא המדינה\"\"\",\n",
        "                     \"\"\"השרים אישרו\"\"\",\n",
        "                     \"\"\"הקבינט התכנס\"\"\",\n",
        "                     \"\"\"מה קרה\"\"\",\n",
        "                     \"\"\"מי גנב\"\"\",\n",
        "                     \"\"\"מה קורה\"\"\",\n",
        "                     \"\"\"אלף ימים\"\"\",\n",
        "                     \"\"\"עלייתו ונפילתו\"\"\",\n",
        "                     \"\"\"אזהרה: \"\"\",\n",
        "                     \"\"\"אין גבול\"\"\",\n",
        "                     \"\"\"המלחמה נמשכת:\"\"\",\n",
        "                     \"\"\"דווקא אחרי\"\"\",\n",
        "                     \"\"\"ראש המל\"ל\"\"\",\n",
        "                     \"\"\"עשרות חמוסים\"\"\",\n",
        "                     \"\"\"קרב צמוד בין\"\"\",\n",
        "                     \"\"\"תגלית מפתיעה\"\"\",\n",
        "]"
      ],
      "execution_count": 40,
      "outputs": []
    },
    {
      "cell_type": "code",
      "metadata": {
        "colab": {
          "base_uri": "https://localhost:8080/",
          "height": 35
        },
        "id": "1ottO2J3ex2y",
        "outputId": "c1f54619-d724-4c34-f4ff-09ffbcb6e95f"
      },
      "source": [
        "a = \"\"\"בלה בלה ynet בלה\"\"\"\n",
        "a.replace('ynet', 'whynet')"
      ],
      "execution_count": 43,
      "outputs": [
        {
          "output_type": "execute_result",
          "data": {
            "application/vnd.google.colaboratory.intrinsic+json": {
              "type": "string"
            },
            "text/plain": [
              "'בלה בלה whynet בלה'"
            ]
          },
          "metadata": {
            "tags": []
          },
          "execution_count": 43
        }
      ]
    },
    {
      "cell_type": "code",
      "metadata": {
        "colab": {
          "base_uri": "https://localhost:8080/"
        },
        "id": "jal2YDPZO6za",
        "outputId": "2c831bd3-ee8f-4e7a-be31-e1ec0f2a12c6"
      },
      "source": [
        "%%time\n",
        "generated_articles = []\n",
        "for start_string in start_string_list:\n",
        "    start_string = '[SOS] ' + start_string\n",
        "    for label in genres:\n",
        "        genre = label_dict[label]\n",
        "        year = random.randint(0,21) * 100\n",
        "        month = random.randint(0,12)\n",
        "        day = random.randint(0,29)\n",
        "        timestamp = year + month\n",
        "        generated_text = ''\n",
        "        with torch.no_grad():\n",
        "            generated = generate(model, vocab, start_string, genre, timestamp, 1, 512)\n",
        "        for char in generated:\n",
        "            generated_text += char\n",
        "\n",
        "        title = generated_text.split('[SEP1]')[0].strip('[SOS] ')\n",
        "        try:\n",
        "            sub_title = generated_text.split('[SEP1]')[1].split('[SEP2]')[0].strip('[SEP1] ')\n",
        "        except IndexError:\n",
        "            sub_title = ''\n",
        "        try:\n",
        "            body = generated_text.split('[SEP1]')[1].split('[SEP2]')[1].strip('[SEP2]')\n",
        "        except IndexError:\n",
        "            body = ''\n",
        "\n",
        "        tilte = title.replace('ynet', 'whynet')\n",
        "        sub_tilte = title.replace('ynet', 'whynet')\n",
        "        body = title.replace('ynet', 'whynet')\n",
        "\n",
        "        generated_articles.append((start_string, genre, \"{0}.{1}.{2}\"\\\n",
        "                                   .format(day, month, (year // 100) + 2000) ,\\\n",
        "                                   title, sub_title, body))"
      ],
      "execution_count": 45,
      "outputs": [
        {
          "output_type": "stream",
          "text": [
            "CPU times: user 1h 29min 30s, sys: 6min 42s, total: 1h 36min 13s\n",
            "Wall time: 50min 25s\n"
          ],
          "name": "stdout"
        }
      ]
    },
    {
      "cell_type": "code",
      "metadata": {
        "id": "5hCGhNM5TfQb"
      },
      "source": [
        "new_list = []\n",
        "for i in range(0, len(generated_articles)):\n",
        "    new_list.append([item for item in generated_articles[i]])"
      ],
      "execution_count": null,
      "outputs": []
    },
    {
      "cell_type": "code",
      "metadata": {
        "colab": {
          "base_uri": "https://localhost:8080/",
          "height": 164
        },
        "id": "TuoCJjWQU4EC",
        "outputId": "10e4742b-1048-4b2e-837c-f3a3e1a973e3"
      },
      "source": [
        "new_list"
      ],
      "execution_count": 27,
      "outputs": [
        {
          "output_type": "error",
          "ename": "NameError",
          "evalue": "ignored",
          "traceback": [
            "\u001b[0;31m---------------------------------------------------------------------------\u001b[0m",
            "\u001b[0;31mNameError\u001b[0m                                 Traceback (most recent call last)",
            "\u001b[0;32m<ipython-input-27-8a9015be32e7>\u001b[0m in \u001b[0;36m<module>\u001b[0;34m()\u001b[0m\n\u001b[0;32m----> 1\u001b[0;31m \u001b[0mnew_list\u001b[0m\u001b[0;34m\u001b[0m\u001b[0;34m\u001b[0m\u001b[0m\n\u001b[0m",
            "\u001b[0;31mNameError\u001b[0m: name 'new_list' is not defined"
          ]
        }
      ]
    },
    {
      "cell_type": "code",
      "metadata": {
        "colab": {
          "base_uri": "https://localhost:8080/",
          "height": 404
        },
        "id": "erR9OeyTR1dp",
        "outputId": "f1901bb6-696f-4fd3-b1da-11e51e80a462"
      },
      "source": [
        "fig, axes = plt.subplots(1, 2, figsize=(12, 6))\n",
        "axes[0].set_title('loss per 200 batchs')\n",
        "_ = axes[0].plot(model.loss_list, color='blue', alpha=0.5)\n",
        "axes[1].set_title('perplexity per 200 batchs')\n",
        "_ = axes[1].plot(np.exp(np.array(model.loss_list)), color='blue', alpha=0.5)\n",
        "_ = axes[0].set_xlabel('x200 batchs')\n",
        "_ = axes[0].set_ylabel('loss')\n",
        "_ = axes[1].set_xlabel('x200 batchs')\n",
        "_ = axes[1].set_ylabel('loss')"
      ],
      "execution_count": 26,
      "outputs": [
        {
          "output_type": "display_data",
          "data": {
            "image/png": "[encoded data removed]",
            "text/plain": [
              "<Figure size 864x432 with 2 Axes>"
            ]
          },
          "metadata": {
            "tags": [],
            "needs_background": "light"
          }
        }
      ]
    }
  ]
}